{
 "cells": [
  {
   "cell_type": "code",
   "execution_count": 1,
   "id": "43522edd-7e53-4def-874c-c57cd26ed87d",
   "metadata": {},
   "outputs": [
    {
     "data": {
      "text/plain": [
       "'/Users/bhavanapemmasani'"
      ]
     },
     "execution_count": 1,
     "metadata": {},
     "output_type": "execute_result"
    }
   ],
   "source": [
    "import os\n",
    "os.getcwd()"
   ]
  },
  {
   "cell_type": "code",
   "execution_count": 16,
   "id": "7ba37389-72fe-4037-afb2-8ec130db79b8",
   "metadata": {},
   "outputs": [
    {
     "name": "stdout",
     "output_type": "stream",
     "text": [
      "Sent to Darcy McMahon at Psiquantum\n",
      "Sent to Lewis Turner at Nyobolt\n",
      "Sent to Lisa Minick at Nvidia\n",
      "Sent to Mamatha Venkataswamy at CTDI\n",
      "Sent to Damon Alston, III at Stanley Black&Decker\n",
      "Sent to Kaitlynn Dubell at Sigma Connectivity\n",
      "Sent to Ken Coulter at Copeland\n",
      "Sent to Saenz, Laura at Smith+Nephew\n",
      "Sent to Shireen Khatibi at Sigma Connectivity\n",
      "Failed for nan: 'float' object has no attribute 'encode'\n",
      "Sent to Devin Martinson at Micron\n",
      "Sent to Vijaya Dos Santos at Micron\n",
      "Sent to Nickols, Michael at Honeywel\n",
      "Sent to Clifton Miller at Intuitive Machines\n",
      "Sent to Munsey, Megan at Moog\n",
      "Sent to Katie Gagne-Grabenstein at Brudis & Associates Inc.\n",
      "Sent to Worth Busbee at Trueline\n",
      "Failed for nan: 'float' object has no attribute 'encode'\n",
      "Sent to Melinna Barrantes at Roche\n",
      "Sent to Becky Franzen at Arm\n",
      "Sent to Swapna Balan at Apple\n",
      "Sent to Kesavan Vadiveloo at Dell\n",
      "Sent to Doug Beck at Dell\n",
      "Sent to Yancy Rivera at Apple\n",
      "Sent to Sukeshani Randive at VeeAR\n",
      "Sent to Britney Hoang at Powell\n",
      "Sent to Chrystal Spurgeon at AMD\n",
      "Sent to Jill-Annette Aviles at Amazon\n",
      "Sent to James Mitchell at Nvidia\n",
      "Sent to Brenden Garvin at ASML\n",
      "Sent to Christine Muisenga at ASML\n",
      "Sent to Brianna Hartman at ASML\n",
      "Sent to Derrick Green at ASML\n",
      "Sent to Sam Luba at Rivos\n",
      "Sent to Marc Rodriguez at AMD\n",
      "Sent to Jazylette Windell at Nvidia\n",
      "Sent to Celeste Diamond at Cadence\n",
      "Sent to Vennela Yadlapalli at meta\n",
      "Sent to Luke Fay at Meta\n",
      "Sent to Chuck Coons at Polar Semi\n",
      "Sent to Gayatri Devgan at Nvidia\n",
      "Sent to David Dyke at AMD\n",
      "Sent to Steve Decker at Amazon\n"
     ]
    }
   ],
   "source": [
    "import pandas as pd\n",
    "import smtplib\n",
    "import time\n",
    "from email.mime.multipart import MIMEMultipart\n",
    "from email.mime.text import MIMEText\n",
    "\n",
    "# ─── 1) YOUR SMTP CONFIG ───────────────────────────────────\n",
    "SMTP_SERVER = 'smtp.gmail.com'\n",
    "SMTP_PORT   = 587\n",
    "USERNAME    = 'bhavanapemmasani@gmail.com'\n",
    "PASSWORD    = 'xxpb gubd ljgb owik'   # store in an env var, never in code\n",
    "\n",
    "# ─── 2) MESSAGE TEMPLATES ──────────────────────────────────\n",
    "SUBJECT_TEMPLATE = \"Exploring ASIC/FPGA Design Opportunities at {company}\"\n",
    "\n",
    "BODY_TEMPLATE = \"\"\"\n",
    "Hi {first_name},\n",
    "\n",
    "I hope you’re doing well. I came across your profile on LinkedIn and saw you’re a {designation} at {company}. I’m an Electrical & Computer Engineer with 4+ years in VLSI design and hardware verification, and I’m actively looking for new roles where I can:\n",
    "\n",
    "• Design RTL in SystemVerilog & UVM  \n",
    "• Build and verify high-performance ASIC/FPGA blocks  \n",
    "• Leverage machine-learning to optimize hardware performance  \n",
    "\n",
    "Most recently, as a Research Assistant at Abecedarian LLC, I architected a UVM-based ALU verification bench augmented with C++/Python ML models to predict and prioritize test cases—cutting regression cycles by over 30%. Prior to that, I drove low-power RTL flows at Wipro and built RF-hardened robotics systems at Amazon Robotics.\n",
    "\n",
    "Would you have 10–15 minutes to chat about any upcoming openings on your team, or share advice on the hiring process at {company}? You can also find me on LinkedIn here: {linkedin}.\n",
    "\n",
    "Thank you for your time and consideration,\n",
    "  \n",
    "—  \n",
    "Bhavana Pemmasani  \n",
    "Electrical & Computer Engineer  \n",
    "📧 bhavanapemmasani@gmail.com | 📱 +1-610-675-6212  \n",
    "LinkedIn: https://www.linkedin.com/in/bhavana-pemmasani/  \n",
    "GitHub: https://github.com/bhavanapemmasani\n",
    "\"\"\"\n",
    "\n",
    "# ─── 3) LOAD YOUR RECIPIENT LIST ────────────────────────────\n",
    "df = pd.read_csv('recruiters.csv')\n",
    "\n",
    "# Clean column names: lowercase, strip whitespace, replace spaces with underscores\n",
    "df.columns = df.columns.str.strip().str.lower().str.replace(' ', '_')\n",
    "\n",
    "# ─── 4) SEND THE EMAILS ────────────────────────────────────\n",
    "with smtplib.SMTP(SMTP_SERVER, SMTP_PORT) as smtp:\n",
    "    smtp.ehlo()\n",
    "    smtp.starttls()\n",
    "    smtp.login(USERNAME, PASSWORD)\n",
    "\n",
    "    for _, row in df.iterrows():\n",
    "        msg = MIMEMultipart()\n",
    "        msg['From']    = USERNAME\n",
    "        msg['To']      = row['email_id']\n",
    "        msg['Subject'] = SUBJECT_TEMPLATE.format(company=row['company'])\n",
    "\n",
    "        # personalize the body\n",
    "        body = BODY_TEMPLATE.format(\n",
    "            first_name  = row['name'],\n",
    "            designation = row['designation'],\n",
    "            company     = row['company'],\n",
    "            linkedin    = row['linkedin']\n",
    "        )\n",
    "        msg.attach(MIMEText(body, 'plain'))\n",
    "\n",
    "        try:\n",
    "            smtp.send_message(msg)\n",
    "            print(f\"Sent to {row['name']} at {row['company']}\")\n",
    "        except Exception as e:\n",
    "            print(f\"Failed for {row['email_id']}: {e}\")\n",
    "\n",
    "        time.sleep(2)  # pause to avoid rate limits\n"
   ]
  },
  {
   "cell_type": "code",
   "execution_count": 9,
   "id": "9de0e4f9-5ce8-47b1-88fb-5305b536c3c5",
   "metadata": {},
   "outputs": [
    {
     "name": "stdout",
     "output_type": "stream",
     "text": [
      "['Unnamed: 0', 'Unnamed: 1', 'Unnamed: 2', 'Unnamed: 3', 'Unnamed: 4']\n"
     ]
    }
   ],
   "source": [
    "print(df.columns.tolist())"
   ]
  },
  {
   "cell_type": "code",
   "execution_count": 14,
   "id": "b1a3d6e6-e80a-4ff8-bb02-0eeee72fb17f",
   "metadata": {},
   "outputs": [
    {
     "name": "stdout",
     "output_type": "stream",
     "text": [
      "Index(['NAME', 'EMAIL ID', 'COMPANY', 'DESIGNATION', 'LINKEDIN'], dtype='object')\n"
     ]
    }
   ],
   "source": [
    "df = pd.read_csv(\"recruiters.csv\")\n",
    "df.columns = df.columns.str.strip()  # Clean up any accidental spaces\n",
    "print(df.columns)  # Check what headers exist\n"
   ]
  },
  {
   "cell_type": "code",
   "execution_count": null,
   "id": "678b0b71-d95e-4314-929b-1c0482edbee9",
   "metadata": {},
   "outputs": [],
   "source": []
  }
 ],
 "metadata": {
  "kernelspec": {
   "display_name": "Python 3 (ipykernel)",
   "language": "python",
   "name": "python3"
  },
  "language_info": {
   "codemirror_mode": {
    "name": "ipython",
    "version": 3
   },
   "file_extension": ".py",
   "mimetype": "text/x-python",
   "name": "python",
   "nbconvert_exporter": "python",
   "pygments_lexer": "ipython3",
   "version": "3.11.6"
  }
 },
 "nbformat": 4,
 "nbformat_minor": 5
}
